{
 "cells": [
  {
   "cell_type": "markdown",
   "metadata": {},
   "source": [
    "Get Data From S3"
   ]
  },
  {
   "cell_type": "code",
   "execution_count": 1,
   "metadata": {},
   "outputs": [],
   "source": [
    "# 1. In command line: pip install awscli\n",
    "# 2. In command line: aws configure --profile safegraph\n",
    "    # Access Key: \n",
    "    # Secret Access Key: \n",
    "    # Region: us-west-2\n",
    "    # Default output: hit enter"
   ]
  },
  {
   "cell_type": "code",
   "execution_count": 2,
   "metadata": {},
   "outputs": [],
   "source": [
    "import awscli\n",
    "import s3fs"
   ]
  },
  {
   "cell_type": "code",
   "execution_count": 3,
   "metadata": {},
   "outputs": [
    {
     "name": "stdout",
     "output_type": "stream",
     "text": [
      "2020-03-25 19:14:53          0 \r\n",
      "2020-03-25 19:26:43 1128558073 Apr19-AllPatterns-PATTERNS-2019_04-2020-03-23.zip\r\n",
      "2020-03-25 19:26:43 1118463443 Aug19-AllPatterns-PATTERNS-2019_08-2020-03-23.zip\r\n",
      "2020-03-25 19:26:42 1171741952 Dec19-AllPatterns-PATTERNS-2019_12-2020-03-23.zip\r\n",
      "2020-03-26 14:24:46 1064707496 Feb19-AllRecords-PATTERNS-2019_02-2020-03-26.zip\r\n",
      "2020-03-25 19:26:43 1196963964 Feb20-AllPatterns-PATTERNS-2020_02-2020-03-23.zip\r\n",
      "2020-03-26 14:24:46 1079616572 Jan19-AllRecords-PATTERNS-2019_01-2020-03-26.zip\r\n",
      "2020-03-25 19:26:43 1216728610 Jan20-AllPatterns-PATTERNS-2020_01-2020-03-23.zip\r\n",
      "2020-03-25 19:27:19 1099259660 Jul19-AllPatterns-PATTERNS-2019_07-2020-03-23.zip\r\n",
      "2020-03-25 19:27:20 1116803712 Jun19-AllPatterns-PATTERNS-2019_06-2020-03-23.zip\r\n",
      "2020-03-25 19:27:20 1116548186 Mar19-AllPatterns-PATTERNS-2019_03-2020-03-23.zip\r\n",
      "2020-04-07 16:53:35 1101581545 March2020-PATTERNS-2020_03-2020.zip\r\n",
      "2020-03-25 19:27:22 1147687392 May19-AllPatterns-PATTERNS-2019_05-2020-03-23.zip\r\n",
      "2020-03-25 19:27:22 1109218543 Nov19-AllPatterns-PATTERNS-2019_11-2020-03-23.zip\r\n",
      "2020-03-25 19:27:59 1120710065 Oct19-AllPatterns-PATTERNS-2019_10-2020-03-23.zip\r\n",
      "2020-03-25 19:28:03 1125576769 Sept19-AllPatterns-PATTERNS-2019_09-2020-03-23.zip\r\n"
     ]
    }
   ],
   "source": [
    "'''S3 paths:\n",
    "Monthly places patterns: s3://sg-c19-response/historicpatterns/\n",
    "Weekly places patterns: s3://sg-c19-response/weekly-patterns/\n",
    "Social distancing: s3://sg-c19-response/social-distancing/v1/\n",
    "Core places: s3://sg-c19-response/core/2020/04/CoreApr2020Release-CORE_POI-2020_03-2020-04-07.zip\n",
    "Transaction data: s3://sg-c19-response/transactions-facteus/\n",
    "\n",
    "To view files in path: aws s3 ls \n",
    "To download single file: aws s3 cp\n",
    "To download entire folder: aws s3 sync\n",
    "'''\n",
    "###\n",
    "!aws s3 ls s3://sg-c19-response/historicpatterns/ --profile safegraph"
   ]
  },
  {
   "cell_type": "code",
   "execution_count": 22,
   "metadata": {},
   "outputs": [
    {
     "name": "stdout",
     "output_type": "stream",
     "text": [
      "                           PRE 01/\r\n",
      "                           PRE 02/\r\n",
      "                           PRE 03/\r\n",
      "                           PRE 04/\r\n",
      "                           PRE 05/\r\n",
      "                           PRE 06/\r\n",
      "                           PRE 07/\r\n",
      "                           PRE 08/\r\n",
      "                           PRE 09/\r\n",
      "                           PRE 10/\r\n",
      "                           PRE 11/\r\n",
      "                           PRE 12/\r\n",
      "                           PRE 13/\r\n",
      "                           PRE 14/\r\n",
      "                           PRE 15/\r\n",
      "                           PRE 16/\r\n",
      "                           PRE 17/\r\n",
      "                           PRE 18/\r\n",
      "                           PRE 19/\r\n",
      "                           PRE 20/\r\n"
     ]
    }
   ],
   "source": [
    "### View all files in S3 path\n",
    "!aws s3 ls \"s3://sg-c19-response/social-distancing/v1/2020/04/\" --profile safegraph"
   ]
  },
  {
   "cell_type": "code",
   "execution_count": 25,
   "metadata": {},
   "outputs": [
    {
     "name": "stdout",
     "output_type": "stream",
     "text": [
      "download: s3://sg-c19-response/social-distancing/v1/2020/04/07/2020-04-07-social-distancing.csv.gz to data/social-distancing/07/2020-04-07-social-distancing.csv.gz\n",
      "download: s3://sg-c19-response/social-distancing/v1/2020/04/05/2020-04-05-social-distancing.csv.gz to data/social-distancing/05/2020-04-05-social-distancing.csv.gz\n",
      "download: s3://sg-c19-response/social-distancing/v1/2020/04/06/2020-04-06-social-distancing.csv.gz to data/social-distancing/06/2020-04-06-social-distancing.csv.gz\n",
      "download: s3://sg-c19-response/social-distancing/v1/2020/04/08/2020-04-08-social-distancing.csv.gz to data/social-distancing/08/2020-04-08-social-distancing.csv.gz\n",
      "download: s3://sg-c19-response/social-distancing/v1/2020/04/04/2020-04-04-social-distancing.csv.gz to data/social-distancing/04/2020-04-04-social-distancing.csv.gz\n",
      "download: s3://sg-c19-response/social-distancing/v1/2020/04/02/2020-04-02-social-distancing.csv.gz to data/social-distancing/02/2020-04-02-social-distancing.csv.gz\n",
      "download: s3://sg-c19-response/social-distancing/v1/2020/04/11/2020-04-11-social-distancing.csv.gz to data/social-distancing/11/2020-04-11-social-distancing.csv.gz\n",
      "download: s3://sg-c19-response/social-distancing/v1/2020/04/03/2020-04-03-social-distancing.csv.gz to data/social-distancing/03/2020-04-03-social-distancing.csv.gz\n",
      "download: s3://sg-c19-response/social-distancing/v1/2020/04/10/2020-04-10-social-distancing.csv.gz to data/social-distancing/10/2020-04-10-social-distancing.csv.gz\n",
      "download: s3://sg-c19-response/social-distancing/v1/2020/04/12/2020-04-12-social-distancing.csv.gz to data/social-distancing/12/2020-04-12-social-distancing.csv.gz\n",
      "download: s3://sg-c19-response/social-distancing/v1/2020/04/14/2020-04-14-social-distancing.csv.gz to data/social-distancing/14/2020-04-14-social-distancing.csv.gz\n",
      "download: s3://sg-c19-response/social-distancing/v1/2020/04/09/2020-04-09-social-distancing.csv.gz to data/social-distancing/09/2020-04-09-social-distancing.csv.gz\n",
      "download: s3://sg-c19-response/social-distancing/v1/2020/04/13/2020-04-13-social-distancing.csv.gz to data/social-distancing/13/2020-04-13-social-distancing.csv.gz\n",
      "download: s3://sg-c19-response/social-distancing/v1/2020/04/18/2020-04-18-social-distancing.csv.gz to data/social-distancing/18/2020-04-18-social-distancing.csv.gz\n",
      "download: s3://sg-c19-response/social-distancing/v1/2020/04/15/2020-04-15-social-distancing.csv.gz to data/social-distancing/15/2020-04-15-social-distancing.csv.gz\n",
      "download: s3://sg-c19-response/social-distancing/v1/2020/04/16/2020-04-16-social-distancing.csv.gz to data/social-distancing/16/2020-04-16-social-distancing.csv.gz\n",
      "download: s3://sg-c19-response/social-distancing/v1/2020/04/17/2020-04-17-social-distancing.csv.gz to data/social-distancing/17/2020-04-17-social-distancing.csv.gz\n",
      "download: s3://sg-c19-response/social-distancing/v1/2020/04/01/2020-04-01-social-distancing.csv.gz to data/social-distancing/01/2020-04-01-social-distancing.csv.gz\n",
      "download: s3://sg-c19-response/social-distancing/v1/2020/04/19/2020-04-19-social-distancing.csv.gz to data/social-distancing/19/2020-04-19-social-distancing.csv.gz\n",
      "download: s3://sg-c19-response/social-distancing/v1/2020/04/20/2020-04-20-social-distancing.csv.gz to data/social-distancing/20/2020-04-20-social-distancing.csv.gz\n"
     ]
    }
   ],
   "source": [
    "### Sync all files in S3 path\n",
    "!aws s3 sync \"s3://sg-c19-response/social-distancing/v1/2020/04/\" ./data/social-distancing/ --profile safegraph\n",
    "    "
   ]
  }
 ],
 "metadata": {
  "kernelspec": {
   "display_name": "Python 3",
   "language": "python",
   "name": "python3"
  },
  "language_info": {
   "codemirror_mode": {
    "name": "ipython",
    "version": 3
   },
   "file_extension": ".py",
   "mimetype": "text/x-python",
   "name": "python",
   "nbconvert_exporter": "python",
   "pygments_lexer": "ipython3",
   "version": "3.7.3"
  }
 },
 "nbformat": 4,
 "nbformat_minor": 2
}
