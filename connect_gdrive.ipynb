{
 "cells": [
  {
   "cell_type": "markdown",
   "metadata": {},
   "source": [
    "Explore pulling/uploading data directly to Google Drive \n",
    "to help us automate in the future?\n",
    "\n",
    "JSON with OAUTH credentials in /dev folder."
   ]
  },
  {
   "cell_type": "code",
   "execution_count": 4,
   "metadata": {},
   "outputs": [],
   "source": [
    "from pydrive.auth import GoogleAuth\n",
    "from pydrive.drive import GoogleDrive"
   ]
  },
  {
   "cell_type": "code",
   "execution_count": 6,
   "metadata": {},
   "outputs": [
    {
     "name": "stdout",
     "output_type": "stream",
     "text": [
      "Your browser has been opened to visit:\n",
      "\n",
      "    https://accounts.google.com/o/oauth2/auth?client_id=1005343323557-tbp8jl9quil0d9chej4ck3dg5ka9j0ll.apps.googleusercontent.com&redirect_uri=http%3A%2F%2Flocalhost%3A8090%2F&scope=https%3A%2F%2Fwww.googleapis.com%2Fauth%2Fdrive&access_type=offline&response_type=code\n",
      "\n",
      "Authentication successful.\n"
     ]
    }
   ],
   "source": [
    "gauth = GoogleAuth()\n",
    "gauth.LocalWebserverAuth()\n",
    "drive = GoogleDrive(gauth)"
   ]
  },
  {
   "cell_type": "code",
   "execution_count": 12,
   "metadata": {},
   "outputs": [
    {
     "name": "stdout",
     "output_type": "stream",
     "text": [
      "Folder: dev, ID: 1rQrc3LPLIUuAVSeviJ-Kv09Y0VDQN-ub\n",
      "Folder: data, ID: 1FKy56DWEaCXLpAg4N-GvZB2wRX5z3qM9\n"
     ]
    }
   ],
   "source": [
    "fileList = drive.ListFile({'q': \"'root' in parents and trashed=false\"}).GetList()\n",
    "for file in fileList:\n",
    "  print('Folder: %s, ID: %s' % (file['title'], file['id']))\n",
    "  # Get the folder ID that you want\n",
    "  #if(file['title'] == \"data\"):\n",
    "      #fileID = file['id']"
   ]
  },
  {
   "cell_type": "code",
   "execution_count": 15,
   "metadata": {},
   "outputs": [],
   "source": [
    "fileList = drive.ListFile({'q': \"'1rQrc3LPLIUuAVSeviJ-Kv09Y0VDQN-ub' in parents and trashed=false\"}).GetList()\n",
    "for file in fileList:\n",
    "    print('Title: %s, ID: %s' % (file['title'], file['id']))\n",
    "    if(file['title'] == \"picture\"):\n",
    "        fileID = file['id']\n",
    "  \n",
    "# Initialize GoogleDriveFile instance with file id.\n",
    "file2 = drive.CreateFile({'id': fileID})"
   ]
  }
 ],
 "metadata": {
  "kernelspec": {
   "display_name": "Python 3",
   "language": "python",
   "name": "python3"
  },
  "language_info": {
   "codemirror_mode": {
    "name": "ipython",
    "version": 3
   },
   "file_extension": ".py",
   "mimetype": "text/x-python",
   "name": "python",
   "nbconvert_exporter": "python",
   "pygments_lexer": "ipython3",
   "version": "3.7.3"
  }
 },
 "nbformat": 4,
 "nbformat_minor": 2
}
